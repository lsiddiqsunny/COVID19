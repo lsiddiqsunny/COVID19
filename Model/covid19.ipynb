{
 "cells": [
  {
   "cell_type": "code",
   "execution_count": 1,
   "metadata": {},
   "outputs": [
    {
     "name": "stderr",
     "output_type": "stream",
     "text": [
      "Using TensorFlow backend.\n"
     ]
    }
   ],
   "source": [
    "import glob\n",
    "from keras.models import Sequential, load_model\n",
    "import numpy as np\n",
    "import pandas as pd\n",
    "import keras as k\n",
    "from keras.layers import Dense\n",
    "from sklearn.model_selection import train_test_split\n",
    "from sklearn.preprocessing import LabelEncoder, MinMaxScaler\n",
    "import matplotlib.pyplot as plt"
   ]
  },
  {
   "cell_type": "code",
   "execution_count": 2,
   "metadata": {
    "_cell_guid": "b1076dfc-b9ad-4769-8c92-a6c4dae69d19",
    "_uuid": "8f2839f25d086af736a60e9eeb907d3b93b6e0e5"
   },
   "outputs": [],
   "source": [
    "# This Python 3 environment comes with many helpful analytics libraries installed\n",
    "# It is defined by the kaggle/python docker image: https://github.com/kaggle/docker-python\n",
    "# For example, here's several helpful packages to load in \n",
    "\n",
    "import numpy as np # linear algebra\n",
    "import pandas as pd # data processing, CSV file I/O (e.g. pd.read_csv)\n",
    "\n",
    "# Input data files are available in the \"../input/\" directory.\n",
    "# For example, running this (by clicking run or pressing Shift+Enter) will list all files under the input directory\n",
    "\n",
    "import os\n",
    "for dirname, _, filenames in os.walk('/kaggle/input'):\n",
    "    for filename in filenames:\n",
    "        print(os.path.join(dirname, filename))\n",
    "\n",
    "# Any results you write to the current directory are saved as output."
   ]
  },
  {
   "cell_type": "code",
   "execution_count": 3,
   "metadata": {
    "_cell_guid": "79c7e3d0-c299-4dcb-8224-4455121ee9b0",
    "_uuid": "d629ff2d2480ee46fbb7e2d37f6b5fab8052498a"
   },
   "outputs": [],
   "source": [
    "df = pd.read_excel('COVID-19.xlsx')"
   ]
  },
  {
   "cell_type": "code",
   "execution_count": 4,
   "metadata": {},
   "outputs": [
    {
     "data": {
      "text/html": [
       "<div>\n",
       "<style scoped>\n",
       "    .dataframe tbody tr th:only-of-type {\n",
       "        vertical-align: middle;\n",
       "    }\n",
       "\n",
       "    .dataframe tbody tr th {\n",
       "        vertical-align: top;\n",
       "    }\n",
       "\n",
       "    .dataframe thead th {\n",
       "        text-align: right;\n",
       "    }\n",
       "</style>\n",
       "<table border=\"1\" class=\"dataframe\">\n",
       "  <thead>\n",
       "    <tr style=\"text-align: right;\">\n",
       "      <th></th>\n",
       "      <th>age</th>\n",
       "      <th>sex</th>\n",
       "      <th>heart disease</th>\n",
       "      <th>lung disease</th>\n",
       "      <th>diabetes</th>\n",
       "      <th>fever</th>\n",
       "      <th>cough</th>\n",
       "      <th>shortness of breathe</th>\n",
       "      <th>pressure in the chest</th>\n",
       "      <th>close contact with corona patient</th>\n",
       "      <th>traveled country</th>\n",
       "      <th>Unnamed: 11</th>\n",
       "      <th>disease</th>\n",
       "      <th>flu</th>\n",
       "      <th>cold</th>\n",
       "      <th>corona</th>\n",
       "    </tr>\n",
       "  </thead>\n",
       "  <tbody>\n",
       "    <tr>\n",
       "      <th>0</th>\n",
       "      <td>66</td>\n",
       "      <td>male</td>\n",
       "      <td>yes</td>\n",
       "      <td>no</td>\n",
       "      <td>yes</td>\n",
       "      <td>yes</td>\n",
       "      <td>yes</td>\n",
       "      <td>yes</td>\n",
       "      <td>yes</td>\n",
       "      <td>no</td>\n",
       "      <td>china</td>\n",
       "      <td>NaN</td>\n",
       "      <td>corona</td>\n",
       "      <td>0</td>\n",
       "      <td>0</td>\n",
       "      <td>1</td>\n",
       "    </tr>\n",
       "    <tr>\n",
       "      <th>1</th>\n",
       "      <td>56</td>\n",
       "      <td>female</td>\n",
       "      <td>no</td>\n",
       "      <td>no</td>\n",
       "      <td>yes</td>\n",
       "      <td>yes</td>\n",
       "      <td>yes</td>\n",
       "      <td>yes</td>\n",
       "      <td>no</td>\n",
       "      <td>no</td>\n",
       "      <td>china</td>\n",
       "      <td>NaN</td>\n",
       "      <td>corona</td>\n",
       "      <td>0</td>\n",
       "      <td>0</td>\n",
       "      <td>1</td>\n",
       "    </tr>\n",
       "    <tr>\n",
       "      <th>2</th>\n",
       "      <td>46</td>\n",
       "      <td>male</td>\n",
       "      <td>no</td>\n",
       "      <td>no</td>\n",
       "      <td>no</td>\n",
       "      <td>yes</td>\n",
       "      <td>yes</td>\n",
       "      <td>yes</td>\n",
       "      <td>yes</td>\n",
       "      <td>no</td>\n",
       "      <td>china</td>\n",
       "      <td>NaN</td>\n",
       "      <td>corona</td>\n",
       "      <td>0</td>\n",
       "      <td>0</td>\n",
       "      <td>1</td>\n",
       "    </tr>\n",
       "    <tr>\n",
       "      <th>3</th>\n",
       "      <td>60</td>\n",
       "      <td>male</td>\n",
       "      <td>yes</td>\n",
       "      <td>yes</td>\n",
       "      <td>yes</td>\n",
       "      <td>yes</td>\n",
       "      <td>yes</td>\n",
       "      <td>yes</td>\n",
       "      <td>yes</td>\n",
       "      <td>no</td>\n",
       "      <td>china</td>\n",
       "      <td>NaN</td>\n",
       "      <td>corona</td>\n",
       "      <td>0</td>\n",
       "      <td>0</td>\n",
       "      <td>1</td>\n",
       "    </tr>\n",
       "    <tr>\n",
       "      <th>4</th>\n",
       "      <td>58</td>\n",
       "      <td>male</td>\n",
       "      <td>no</td>\n",
       "      <td>no</td>\n",
       "      <td>yes</td>\n",
       "      <td>yes</td>\n",
       "      <td>yes</td>\n",
       "      <td>no</td>\n",
       "      <td>no</td>\n",
       "      <td>no</td>\n",
       "      <td>china</td>\n",
       "      <td>NaN</td>\n",
       "      <td>flu</td>\n",
       "      <td>2</td>\n",
       "      <td>0</td>\n",
       "      <td>0</td>\n",
       "    </tr>\n",
       "  </tbody>\n",
       "</table>\n",
       "</div>"
      ],
      "text/plain": [
       "   age     sex heart disease lung disease diabetes fever cough  \\\n",
       "0   66    male           yes           no      yes   yes   yes   \n",
       "1   56  female            no           no      yes   yes   yes   \n",
       "2   46    male            no           no       no   yes   yes   \n",
       "3   60    male           yes          yes      yes   yes   yes   \n",
       "4   58    male            no           no      yes   yes   yes   \n",
       "\n",
       "  shortness of breathe pressure in the chest  \\\n",
       "0                  yes                   yes   \n",
       "1                  yes                    no   \n",
       "2                  yes                   yes   \n",
       "3                  yes                   yes   \n",
       "4                   no                    no   \n",
       "\n",
       "  close contact with corona patient traveled country  Unnamed: 11 disease  \\\n",
       "0                                no            china          NaN  corona   \n",
       "1                                no            china          NaN  corona   \n",
       "2                                no            china          NaN  corona   \n",
       "3                                no            china          NaN  corona   \n",
       "4                                no            china          NaN     flu   \n",
       "\n",
       "   flu  cold  corona  \n",
       "0    0     0       1  \n",
       "1    0     0       1  \n",
       "2    0     0       1  \n",
       "3    0     0       1  \n",
       "4    2     0       0  "
      ]
     },
     "execution_count": 4,
     "metadata": {},
     "output_type": "execute_result"
    }
   ],
   "source": [
    "df.head()"
   ]
  },
  {
   "cell_type": "code",
   "execution_count": 5,
   "metadata": {},
   "outputs": [],
   "source": [
    "df.drop(['Unnamed: 11'],axis=1,inplace=True)"
   ]
  },
  {
   "cell_type": "code",
   "execution_count": 6,
   "metadata": {},
   "outputs": [
    {
     "data": {
      "text/html": [
       "<div>\n",
       "<style scoped>\n",
       "    .dataframe tbody tr th:only-of-type {\n",
       "        vertical-align: middle;\n",
       "    }\n",
       "\n",
       "    .dataframe tbody tr th {\n",
       "        vertical-align: top;\n",
       "    }\n",
       "\n",
       "    .dataframe thead th {\n",
       "        text-align: right;\n",
       "    }\n",
       "</style>\n",
       "<table border=\"1\" class=\"dataframe\">\n",
       "  <thead>\n",
       "    <tr style=\"text-align: right;\">\n",
       "      <th></th>\n",
       "      <th>age</th>\n",
       "      <th>sex</th>\n",
       "      <th>heart disease</th>\n",
       "      <th>lung disease</th>\n",
       "      <th>diabetes</th>\n",
       "      <th>fever</th>\n",
       "      <th>cough</th>\n",
       "      <th>shortness of breathe</th>\n",
       "      <th>pressure in the chest</th>\n",
       "      <th>close contact with corona patient</th>\n",
       "      <th>traveled country</th>\n",
       "      <th>disease</th>\n",
       "      <th>flu</th>\n",
       "      <th>cold</th>\n",
       "      <th>corona</th>\n",
       "    </tr>\n",
       "  </thead>\n",
       "  <tbody>\n",
       "    <tr>\n",
       "      <th>0</th>\n",
       "      <td>66</td>\n",
       "      <td>male</td>\n",
       "      <td>yes</td>\n",
       "      <td>no</td>\n",
       "      <td>yes</td>\n",
       "      <td>yes</td>\n",
       "      <td>yes</td>\n",
       "      <td>yes</td>\n",
       "      <td>yes</td>\n",
       "      <td>no</td>\n",
       "      <td>china</td>\n",
       "      <td>corona</td>\n",
       "      <td>0</td>\n",
       "      <td>0</td>\n",
       "      <td>1</td>\n",
       "    </tr>\n",
       "    <tr>\n",
       "      <th>1</th>\n",
       "      <td>56</td>\n",
       "      <td>female</td>\n",
       "      <td>no</td>\n",
       "      <td>no</td>\n",
       "      <td>yes</td>\n",
       "      <td>yes</td>\n",
       "      <td>yes</td>\n",
       "      <td>yes</td>\n",
       "      <td>no</td>\n",
       "      <td>no</td>\n",
       "      <td>china</td>\n",
       "      <td>corona</td>\n",
       "      <td>0</td>\n",
       "      <td>0</td>\n",
       "      <td>1</td>\n",
       "    </tr>\n",
       "    <tr>\n",
       "      <th>2</th>\n",
       "      <td>46</td>\n",
       "      <td>male</td>\n",
       "      <td>no</td>\n",
       "      <td>no</td>\n",
       "      <td>no</td>\n",
       "      <td>yes</td>\n",
       "      <td>yes</td>\n",
       "      <td>yes</td>\n",
       "      <td>yes</td>\n",
       "      <td>no</td>\n",
       "      <td>china</td>\n",
       "      <td>corona</td>\n",
       "      <td>0</td>\n",
       "      <td>0</td>\n",
       "      <td>1</td>\n",
       "    </tr>\n",
       "    <tr>\n",
       "      <th>3</th>\n",
       "      <td>60</td>\n",
       "      <td>male</td>\n",
       "      <td>yes</td>\n",
       "      <td>yes</td>\n",
       "      <td>yes</td>\n",
       "      <td>yes</td>\n",
       "      <td>yes</td>\n",
       "      <td>yes</td>\n",
       "      <td>yes</td>\n",
       "      <td>no</td>\n",
       "      <td>china</td>\n",
       "      <td>corona</td>\n",
       "      <td>0</td>\n",
       "      <td>0</td>\n",
       "      <td>1</td>\n",
       "    </tr>\n",
       "    <tr>\n",
       "      <th>4</th>\n",
       "      <td>58</td>\n",
       "      <td>male</td>\n",
       "      <td>no</td>\n",
       "      <td>no</td>\n",
       "      <td>yes</td>\n",
       "      <td>yes</td>\n",
       "      <td>yes</td>\n",
       "      <td>no</td>\n",
       "      <td>no</td>\n",
       "      <td>no</td>\n",
       "      <td>china</td>\n",
       "      <td>flu</td>\n",
       "      <td>2</td>\n",
       "      <td>0</td>\n",
       "      <td>0</td>\n",
       "    </tr>\n",
       "  </tbody>\n",
       "</table>\n",
       "</div>"
      ],
      "text/plain": [
       "   age     sex heart disease lung disease diabetes fever cough  \\\n",
       "0   66    male           yes           no      yes   yes   yes   \n",
       "1   56  female            no           no      yes   yes   yes   \n",
       "2   46    male            no           no       no   yes   yes   \n",
       "3   60    male           yes          yes      yes   yes   yes   \n",
       "4   58    male            no           no      yes   yes   yes   \n",
       "\n",
       "  shortness of breathe pressure in the chest  \\\n",
       "0                  yes                   yes   \n",
       "1                  yes                    no   \n",
       "2                  yes                   yes   \n",
       "3                  yes                   yes   \n",
       "4                   no                    no   \n",
       "\n",
       "  close contact with corona patient traveled country disease  flu  cold  \\\n",
       "0                                no            china  corona    0     0   \n",
       "1                                no            china  corona    0     0   \n",
       "2                                no            china  corona    0     0   \n",
       "3                                no            china  corona    0     0   \n",
       "4                                no            china     flu    2     0   \n",
       "\n",
       "   corona  \n",
       "0       1  \n",
       "1       1  \n",
       "2       1  \n",
       "3       1  \n",
       "4       0  "
      ]
     },
     "execution_count": 6,
     "metadata": {},
     "output_type": "execute_result"
    }
   ],
   "source": [
    "df.head()"
   ]
  },
  {
   "cell_type": "code",
   "execution_count": null,
   "metadata": {},
   "outputs": [],
   "source": [
    "#df['traveled country'].value_counts()"
   ]
  },
  {
   "cell_type": "code",
   "execution_count": 7,
   "metadata": {},
   "outputs": [],
   "source": [
    "df['heart disease'] = df['heart disease'].map({'yes': 1, 'no': 0})\n",
    "df['lung disease'] = df['lung disease'].map({'yes': 1, 'no': 0})\n",
    "df['diabetes'] = df['diabetes'].map({'yes': 1, 'no': 0})\n",
    "df['fever'] = df['fever'].map({'yes': 1, 'no': 0})\n",
    "df['cough'] = df['cough'].map({'yes': 1, 'no': 0})\n",
    "df['shortness of breathe'] = df['shortness of breathe'].map({'yes': 1, 'no': 0})\n",
    "df['pressure in the chest'] = df['pressure in the chest'].map({'yes': 1, 'no': 0})\n",
    "df['close contact with corona patient'] = df['close contact with corona patient'].map({'yes': 1, 'no': 0})\n",
    "#df['corona patient'] = df['corona patient'].map({'corona': 1, 'flu': 2, 'cold':3})\n",
    "df['sex'] = df['sex'].map({'male': 1, 'female': 0})\n",
    "#df['traveled country'] = df['traveled country'].map({'china': 1, 'singapore': 2,'usa': 3, 'south korea': 4,'italy': 5, 'germany': 6,\n",
    "                                                     #'switzerland': 7, 'spain': 8,'thailand': 9,'egypt':10,'belgium':11,'lebanon':12,\n",
    "                                                     #'iraq':13,'iran':14,'afganistan':15,'kuwait':16,'algeria':17,'austria':18,'nepal':19,\n",
    "                                                     #'malaysia':20,'sri lanka':21,'india':22,'sweden':23,'canada':24,'netherlands':25,\n",
    "                                                     #'brazil':26,'greece':27,'israel':28,'russia':29,'chile':30,'mexico':31,'belarus':32,\n",
    "                                                     #'cyprus':33,'turkey':34,'honduras':35,'kenya':36,'uk':37,'costa rica':38,'armenia':39,\n",
    "                                                    #'ecuador':40,'bosnia':41,'azerbaijan':42,'peru':43,'panama':44,'bulgeria':45,'portugal':46})\n",
    "\n",
    "df['traveled country'] = df['traveled country'].map({'china': 2, 'singapore': 8,'usa': 3, 'south korea': 5,'italy': 1, 'germany': 9,\n",
    "                                                     'switzerland': 7, 'spain': 4,'thailand': 6,'egypt':10,'belgium':11,'lebanon':12,\n",
    "                                                     'iraq':11,'iran':11,'afganistan':12,'kuwait':12,'algeria':12,'austria':12,'nepal':12,\n",
    "                                                     'malaysia':10,'sri lanka':12,'india':12,'sweden':10,'canada':10,'netherlands':12,\n",
    "                                                     'brazil':12,'greece':12,'israel':12,'russia':12,'chile':12,'mexico':12,'belarus':12,\n",
    "                                                     'cyprus':12,'turkey':12,'honduras':12,'kenya':12,'uk':10,'costa rica':12,'armenia':12,\n",
    "                                                    'ecuador':12,'bosnia':12,'azerbaijan':12,'peru':12,'panama':12,'bulgeria':12,'portugal':11})\n",
    "df['disease'] = df['disease'].map({'cold': 0, 'corona': 1, 'flu': 2})"
   ]
  },
  {
   "cell_type": "code",
   "execution_count": 8,
   "metadata": {},
   "outputs": [
    {
     "data": {
      "text/html": [
       "<div>\n",
       "<style scoped>\n",
       "    .dataframe tbody tr th:only-of-type {\n",
       "        vertical-align: middle;\n",
       "    }\n",
       "\n",
       "    .dataframe tbody tr th {\n",
       "        vertical-align: top;\n",
       "    }\n",
       "\n",
       "    .dataframe thead th {\n",
       "        text-align: right;\n",
       "    }\n",
       "</style>\n",
       "<table border=\"1\" class=\"dataframe\">\n",
       "  <thead>\n",
       "    <tr style=\"text-align: right;\">\n",
       "      <th></th>\n",
       "      <th>age</th>\n",
       "      <th>sex</th>\n",
       "      <th>heart disease</th>\n",
       "      <th>lung disease</th>\n",
       "      <th>diabetes</th>\n",
       "      <th>fever</th>\n",
       "      <th>cough</th>\n",
       "      <th>shortness of breathe</th>\n",
       "      <th>pressure in the chest</th>\n",
       "      <th>close contact with corona patient</th>\n",
       "      <th>traveled country</th>\n",
       "      <th>disease</th>\n",
       "      <th>flu</th>\n",
       "      <th>cold</th>\n",
       "      <th>corona</th>\n",
       "    </tr>\n",
       "  </thead>\n",
       "  <tbody>\n",
       "    <tr>\n",
       "      <th>0</th>\n",
       "      <td>66</td>\n",
       "      <td>1</td>\n",
       "      <td>1</td>\n",
       "      <td>0</td>\n",
       "      <td>1</td>\n",
       "      <td>1</td>\n",
       "      <td>1</td>\n",
       "      <td>1</td>\n",
       "      <td>1</td>\n",
       "      <td>0</td>\n",
       "      <td>2</td>\n",
       "      <td>1</td>\n",
       "      <td>0</td>\n",
       "      <td>0</td>\n",
       "      <td>1</td>\n",
       "    </tr>\n",
       "    <tr>\n",
       "      <th>1</th>\n",
       "      <td>56</td>\n",
       "      <td>0</td>\n",
       "      <td>0</td>\n",
       "      <td>0</td>\n",
       "      <td>1</td>\n",
       "      <td>1</td>\n",
       "      <td>1</td>\n",
       "      <td>1</td>\n",
       "      <td>0</td>\n",
       "      <td>0</td>\n",
       "      <td>2</td>\n",
       "      <td>1</td>\n",
       "      <td>0</td>\n",
       "      <td>0</td>\n",
       "      <td>1</td>\n",
       "    </tr>\n",
       "    <tr>\n",
       "      <th>2</th>\n",
       "      <td>46</td>\n",
       "      <td>1</td>\n",
       "      <td>0</td>\n",
       "      <td>0</td>\n",
       "      <td>0</td>\n",
       "      <td>1</td>\n",
       "      <td>1</td>\n",
       "      <td>1</td>\n",
       "      <td>1</td>\n",
       "      <td>0</td>\n",
       "      <td>2</td>\n",
       "      <td>1</td>\n",
       "      <td>0</td>\n",
       "      <td>0</td>\n",
       "      <td>1</td>\n",
       "    </tr>\n",
       "    <tr>\n",
       "      <th>3</th>\n",
       "      <td>60</td>\n",
       "      <td>1</td>\n",
       "      <td>1</td>\n",
       "      <td>1</td>\n",
       "      <td>1</td>\n",
       "      <td>1</td>\n",
       "      <td>1</td>\n",
       "      <td>1</td>\n",
       "      <td>1</td>\n",
       "      <td>0</td>\n",
       "      <td>2</td>\n",
       "      <td>1</td>\n",
       "      <td>0</td>\n",
       "      <td>0</td>\n",
       "      <td>1</td>\n",
       "    </tr>\n",
       "    <tr>\n",
       "      <th>4</th>\n",
       "      <td>58</td>\n",
       "      <td>1</td>\n",
       "      <td>0</td>\n",
       "      <td>0</td>\n",
       "      <td>1</td>\n",
       "      <td>1</td>\n",
       "      <td>1</td>\n",
       "      <td>0</td>\n",
       "      <td>0</td>\n",
       "      <td>0</td>\n",
       "      <td>2</td>\n",
       "      <td>2</td>\n",
       "      <td>2</td>\n",
       "      <td>0</td>\n",
       "      <td>0</td>\n",
       "    </tr>\n",
       "  </tbody>\n",
       "</table>\n",
       "</div>"
      ],
      "text/plain": [
       "   age  sex  heart disease  lung disease  diabetes  fever  cough  \\\n",
       "0   66    1              1             0         1      1      1   \n",
       "1   56    0              0             0         1      1      1   \n",
       "2   46    1              0             0         0      1      1   \n",
       "3   60    1              1             1         1      1      1   \n",
       "4   58    1              0             0         1      1      1   \n",
       "\n",
       "   shortness of breathe  pressure in the chest  \\\n",
       "0                     1                      1   \n",
       "1                     1                      0   \n",
       "2                     1                      1   \n",
       "3                     1                      1   \n",
       "4                     0                      0   \n",
       "\n",
       "   close contact with corona patient  traveled country  disease  flu  cold  \\\n",
       "0                                  0                 2        1    0     0   \n",
       "1                                  0                 2        1    0     0   \n",
       "2                                  0                 2        1    0     0   \n",
       "3                                  0                 2        1    0     0   \n",
       "4                                  0                 2        2    2     0   \n",
       "\n",
       "   corona  \n",
       "0       1  \n",
       "1       1  \n",
       "2       1  \n",
       "3       1  \n",
       "4       0  "
      ]
     },
     "execution_count": 8,
     "metadata": {},
     "output_type": "execute_result"
    }
   ],
   "source": [
    "df.head()"
   ]
  },
  {
   "cell_type": "code",
   "execution_count": 9,
   "metadata": {},
   "outputs": [
    {
     "name": "stdout",
     "output_type": "stream",
     "text": [
      "<class 'pandas.core.frame.DataFrame'>\n",
      "RangeIndex: 202 entries, 0 to 201\n",
      "Data columns (total 15 columns):\n",
      "age                                  202 non-null int64\n",
      "sex                                  202 non-null int64\n",
      "heart disease                        202 non-null int64\n",
      "lung disease                         202 non-null int64\n",
      "diabetes                             202 non-null int64\n",
      "fever                                202 non-null int64\n",
      "cough                                202 non-null int64\n",
      "shortness of breathe                 202 non-null int64\n",
      "pressure in the chest                202 non-null int64\n",
      "close contact with corona patient    202 non-null int64\n",
      "traveled country                     202 non-null int64\n",
      "disease                              202 non-null int64\n",
      "flu                                  202 non-null int64\n",
      "cold                                 202 non-null int64\n",
      "corona                               202 non-null int64\n",
      "dtypes: int64(15)\n",
      "memory usage: 23.8 KB\n"
     ]
    }
   ],
   "source": [
    "df.info()"
   ]
  },
  {
   "cell_type": "code",
   "execution_count": 10,
   "metadata": {},
   "outputs": [],
   "source": [
    "#Split the data\n",
    "y = df['disease']\n",
    "X = df.drop(['disease','flu','cold','corona'], axis=1)\n",
    "#y_corona = df[\"corona\"]\n",
    "#y_flu = df['flu']\n",
    "#y_cold = df['cold']\n"
   ]
  },
  {
   "cell_type": "code",
   "execution_count": 11,
   "metadata": {},
   "outputs": [
    {
     "data": {
      "text/html": [
       "<div>\n",
       "<style scoped>\n",
       "    .dataframe tbody tr th:only-of-type {\n",
       "        vertical-align: middle;\n",
       "    }\n",
       "\n",
       "    .dataframe tbody tr th {\n",
       "        vertical-align: top;\n",
       "    }\n",
       "\n",
       "    .dataframe thead th {\n",
       "        text-align: right;\n",
       "    }\n",
       "</style>\n",
       "<table border=\"1\" class=\"dataframe\">\n",
       "  <thead>\n",
       "    <tr style=\"text-align: right;\">\n",
       "      <th></th>\n",
       "      <th>age</th>\n",
       "      <th>sex</th>\n",
       "      <th>heart disease</th>\n",
       "      <th>lung disease</th>\n",
       "      <th>diabetes</th>\n",
       "      <th>fever</th>\n",
       "      <th>cough</th>\n",
       "      <th>shortness of breathe</th>\n",
       "      <th>pressure in the chest</th>\n",
       "      <th>close contact with corona patient</th>\n",
       "      <th>traveled country</th>\n",
       "    </tr>\n",
       "  </thead>\n",
       "  <tbody>\n",
       "    <tr>\n",
       "      <th>0</th>\n",
       "      <td>66</td>\n",
       "      <td>1</td>\n",
       "      <td>1</td>\n",
       "      <td>0</td>\n",
       "      <td>1</td>\n",
       "      <td>1</td>\n",
       "      <td>1</td>\n",
       "      <td>1</td>\n",
       "      <td>1</td>\n",
       "      <td>0</td>\n",
       "      <td>2</td>\n",
       "    </tr>\n",
       "    <tr>\n",
       "      <th>1</th>\n",
       "      <td>56</td>\n",
       "      <td>0</td>\n",
       "      <td>0</td>\n",
       "      <td>0</td>\n",
       "      <td>1</td>\n",
       "      <td>1</td>\n",
       "      <td>1</td>\n",
       "      <td>1</td>\n",
       "      <td>0</td>\n",
       "      <td>0</td>\n",
       "      <td>2</td>\n",
       "    </tr>\n",
       "    <tr>\n",
       "      <th>2</th>\n",
       "      <td>46</td>\n",
       "      <td>1</td>\n",
       "      <td>0</td>\n",
       "      <td>0</td>\n",
       "      <td>0</td>\n",
       "      <td>1</td>\n",
       "      <td>1</td>\n",
       "      <td>1</td>\n",
       "      <td>1</td>\n",
       "      <td>0</td>\n",
       "      <td>2</td>\n",
       "    </tr>\n",
       "    <tr>\n",
       "      <th>3</th>\n",
       "      <td>60</td>\n",
       "      <td>1</td>\n",
       "      <td>1</td>\n",
       "      <td>1</td>\n",
       "      <td>1</td>\n",
       "      <td>1</td>\n",
       "      <td>1</td>\n",
       "      <td>1</td>\n",
       "      <td>1</td>\n",
       "      <td>0</td>\n",
       "      <td>2</td>\n",
       "    </tr>\n",
       "    <tr>\n",
       "      <th>4</th>\n",
       "      <td>58</td>\n",
       "      <td>1</td>\n",
       "      <td>0</td>\n",
       "      <td>0</td>\n",
       "      <td>1</td>\n",
       "      <td>1</td>\n",
       "      <td>1</td>\n",
       "      <td>0</td>\n",
       "      <td>0</td>\n",
       "      <td>0</td>\n",
       "      <td>2</td>\n",
       "    </tr>\n",
       "  </tbody>\n",
       "</table>\n",
       "</div>"
      ],
      "text/plain": [
       "   age  sex  heart disease  lung disease  diabetes  fever  cough  \\\n",
       "0   66    1              1             0         1      1      1   \n",
       "1   56    0              0             0         1      1      1   \n",
       "2   46    1              0             0         0      1      1   \n",
       "3   60    1              1             1         1      1      1   \n",
       "4   58    1              0             0         1      1      1   \n",
       "\n",
       "   shortness of breathe  pressure in the chest  \\\n",
       "0                     1                      1   \n",
       "1                     1                      0   \n",
       "2                     1                      1   \n",
       "3                     1                      1   \n",
       "4                     0                      0   \n",
       "\n",
       "   close contact with corona patient  traveled country  \n",
       "0                                  0                 2  \n",
       "1                                  0                 2  \n",
       "2                                  0                 2  \n",
       "3                                  0                 2  \n",
       "4                                  0                 2  "
      ]
     },
     "execution_count": 11,
     "metadata": {},
     "output_type": "execute_result"
    }
   ],
   "source": [
    "X.head()"
   ]
  },
  {
   "cell_type": "code",
   "execution_count": 12,
   "metadata": {},
   "outputs": [
    {
     "data": {
      "text/plain": [
       "0    1\n",
       "1    1\n",
       "2    1\n",
       "3    1\n",
       "4    2\n",
       "Name: disease, dtype: int64"
      ]
     },
     "execution_count": 12,
     "metadata": {},
     "output_type": "execute_result"
    }
   ],
   "source": [
    "y.head()"
   ]
  },
  {
   "cell_type": "code",
   "execution_count": null,
   "metadata": {},
   "outputs": [],
   "source": [
    "#Feature Scaling\n",
    "x_scaler = MinMaxScaler()\n",
    "x_scaler.fit(X)\n",
    "column_names = X.columns\n",
    "X[column_names] = x_scaler.transform(X)"
   ]
  },
  {
   "cell_type": "code",
   "execution_count": null,
   "metadata": {},
   "outputs": [],
   "source": [
    "X.head()"
   ]
  },
  {
   "cell_type": "code",
   "execution_count": null,
   "metadata": {},
   "outputs": [],
   "source": [
    "#Split the data into 80% training and 20% testing \n",
    "X_train,  X_test, y_train, y_test = train_test_split(\n",
    "        X, y, test_size= 0.2, shuffle=True)"
   ]
  },
  {
   "cell_type": "code",
   "execution_count": null,
   "metadata": {},
   "outputs": [],
   "source": [
    "#Build The model\n",
    "model = Sequential()\n",
    "model.add(Dense(512, input_dim=len(X.columns),kernel_initializer=k.initializers.random_normal(seed=13), activation=\"relu\"))\n",
    "#model.add(Dense(128, activation='relu'))\n",
    "#model.add(Dense(128, activation='relu'))\n",
    "#model.add(Dense(512, activation='relu'))\n",
    "model.add(Dense(3, activation=\"softmax\"))"
   ]
  },
  {
   "cell_type": "code",
   "execution_count": null,
   "metadata": {},
   "outputs": [],
   "source": [
    "#Compile the model\n",
    "model.compile(loss='binary_crossentropy', \n",
    "                  optimizer='adam', metrics=['accuracy'])"
   ]
  },
  {
   "cell_type": "code",
   "execution_count": null,
   "metadata": {},
   "outputs": [],
   "source": [
    "#Train the model\n",
    "history = model.fit(X_train, y_train, \n",
    "                    epochs=1000, \n",
    "                    batch_size=X_train.shape[0]) "
   ]
  },
  {
   "cell_type": "code",
   "execution_count": null,
   "metadata": {},
   "outputs": [],
   "source": [
    "#Save the model\n",
    "model.save(\"covid-19.model\")"
   ]
  },
  {
   "cell_type": "code",
   "execution_count": null,
   "metadata": {},
   "outputs": [],
   "source": [
    "#Visualize the models accuracy and loss\n",
    "plt.plot(history.history[\"accuracy\"])\n",
    "plt.plot(history.history[\"loss\"])\n",
    "plt.title(\"model accuracy & loss\")\n",
    "plt.ylabel(\"accuracy and loss\")\n",
    "plt.xlabel(\"epoch\")\n",
    "plt.legend(['acc', 'loss'], loc='lower right')\n",
    "plt.show()"
   ]
  },
  {
   "cell_type": "code",
   "execution_count": null,
   "metadata": {},
   "outputs": [],
   "source": [
    "model"
   ]
  },
  {
   "cell_type": "code",
   "execution_count": null,
   "metadata": {},
   "outputs": [],
   "source": [
    "model.evaluate(X_test, y_test)"
   ]
  },
  {
   "cell_type": "code",
   "execution_count": null,
   "metadata": {},
   "outputs": [],
   "source": [
    "X_test.head()"
   ]
  },
  {
   "cell_type": "code",
   "execution_count": null,
   "metadata": {},
   "outputs": [],
   "source": [
    "y_test.reset_index(drop=True,inplace=True)"
   ]
  },
  {
   "cell_type": "code",
   "execution_count": null,
   "metadata": {},
   "outputs": [],
   "source": [
    "prediction = model.predict_classes(X_test)\n",
    "\n",
    "prediction = pd.DataFrame(prediction)\n",
    "\n",
    "prediction.columns = ['prediction']"
   ]
  },
  {
   "cell_type": "code",
   "execution_count": null,
   "metadata": {},
   "outputs": [],
   "source": [
    "map_dict = {0:'corona',1:'flu',2:'cold'} \n",
    "#y_test[\"test\"] = prediction.loc[:,0].map(map_dict)\n",
    "y_test['predicted'] = prediction\n",
    "\n",
    "\n",
    "y_test.head()"
   ]
  },
  {
   "cell_type": "code",
   "execution_count": null,
   "metadata": {},
   "outputs": [],
   "source": [
    "map_dict = {0:'corona',1:'flu',2:'cold'} \n",
    "y_test[\"predicted\"] = y_test[\"predicted\"].map(map_dict)\n",
    "y_test.head()"
   ]
  },
  {
   "cell_type": "code",
   "execution_count": null,
   "metadata": {},
   "outputs": [],
   "source": [
    "y_test.to_excel(\"output.xlsx\")"
   ]
  },
  {
   "cell_type": "code",
   "execution_count": 13,
   "metadata": {},
   "outputs": [],
   "source": [
    "import sklearn"
   ]
  },
  {
   "cell_type": "code",
   "execution_count": 14,
   "metadata": {},
   "outputs": [
    {
     "data": {
      "text/plain": [
       "(202, 11)"
      ]
     },
     "execution_count": 14,
     "metadata": {},
     "output_type": "execute_result"
    }
   ],
   "source": [
    "X.shape\n"
   ]
  },
  {
   "cell_type": "code",
   "execution_count": 15,
   "metadata": {},
   "outputs": [
    {
     "data": {
      "text/plain": [
       "(202,)"
      ]
     },
     "execution_count": 15,
     "metadata": {},
     "output_type": "execute_result"
    }
   ],
   "source": [
    "y.shape"
   ]
  },
  {
   "cell_type": "code",
   "execution_count": 16,
   "metadata": {},
   "outputs": [
    {
     "name": "stdout",
     "output_type": "stream",
     "text": [
      "(161, 11) (161,) (41, 11) (41,)\n"
     ]
    }
   ],
   "source": [
    "from sklearn.model_selection import train_test_split\n",
    "x_train,x_test,y_train,y_test = train_test_split(X,y,test_size=.2)\n",
    "print(x_train.shape,y_train.shape, x_test.shape,y_test.shape)"
   ]
  },
  {
   "cell_type": "code",
   "execution_count": 17,
   "metadata": {},
   "outputs": [
    {
     "data": {
      "text/plain": [
       "KNeighborsClassifier(algorithm='auto', leaf_size=30, metric='minkowski',\n",
       "           metric_params=None, n_jobs=None, n_neighbors=5, p=2,\n",
       "           weights='uniform')"
      ]
     },
     "execution_count": 17,
     "metadata": {},
     "output_type": "execute_result"
    }
   ],
   "source": [
    "from sklearn.neighbors import KNeighborsClassifier\n",
    "knn = KNeighborsClassifier(n_neighbors=5) # k-classifier= 5\n",
    "knn.fit(x_train,y_train)"
   ]
  },
  {
   "cell_type": "code",
   "execution_count": 18,
   "metadata": {},
   "outputs": [
    {
     "name": "stdout",
     "output_type": "stream",
     "text": [
      "1 1\n",
      "1 1\n",
      "0 0\n",
      "1 1\n",
      "1 1\n",
      "1 0\n",
      "1 1\n",
      "0 0\n",
      "1 2\n",
      "1 1\n",
      "2 2\n",
      "0 0\n",
      "2 1\n",
      "1 2\n",
      "1 1\n",
      "1 1\n",
      "1 1\n",
      "1 1\n",
      "1 2\n",
      "1 2\n",
      "1 2\n",
      "1 1\n",
      "2 1\n",
      "2 2\n",
      "0 0\n",
      "1 1\n",
      "1 2\n",
      "1 1\n",
      "1 1\n",
      "2 1\n",
      "2 2\n",
      "1 0\n",
      "1 1\n",
      "1 1\n",
      "2 1\n",
      "1 1\n",
      "1 0\n",
      "0 2\n",
      "1 2\n",
      "2 0\n",
      "1 1\n"
     ]
    }
   ],
   "source": [
    "y_pred= knn.predict(x_test)\n",
    "y_pred=np.array(y_pred)\n",
    "y_test=np.array(y_test)\n",
    "for i in range(len(y_pred)):\n",
    "  print(y_pred[i],y_test[i])"
   ]
  },
  {
   "cell_type": "code",
   "execution_count": 19,
   "metadata": {
    "scrolled": true
   },
   "outputs": [
    {
     "name": "stdout",
     "output_type": "stream",
     "text": [
      "              precision    recall  f1-score   support\n",
      "\n",
      "           0       0.80      0.50      0.62         8\n",
      "           1       0.64      0.82      0.72        22\n",
      "           2       0.38      0.27      0.32        11\n",
      "\n",
      "   micro avg       0.61      0.61      0.61        41\n",
      "   macro avg       0.61      0.53      0.55        41\n",
      "weighted avg       0.60      0.61      0.59        41\n",
      "\n",
      "0.6097560975609756\n"
     ]
    }
   ],
   "source": [
    "from sklearn import metrics\n",
    "print(metrics.classification_report(y_test,y_pred))\n",
    "print(metrics.accuracy_score(y_test,y_pred))"
   ]
  },
  {
   "cell_type": "code",
   "execution_count": 20,
   "metadata": {},
   "outputs": [
    {
     "data": {
      "text/plain": [
       "DecisionTreeClassifier(class_weight=None, criterion='gini', max_depth=None,\n",
       "            max_features=None, max_leaf_nodes=None,\n",
       "            min_impurity_decrease=0.0, min_impurity_split=None,\n",
       "            min_samples_leaf=1, min_samples_split=2,\n",
       "            min_weight_fraction_leaf=0.0, presort=False, random_state=None,\n",
       "            splitter='best')"
      ]
     },
     "execution_count": 20,
     "metadata": {},
     "output_type": "execute_result"
    }
   ],
   "source": [
    "from sklearn.tree import DecisionTreeClassifier\n",
    "dtc= DecisionTreeClassifier()\n",
    "dtc.fit(x_train,y_train)"
   ]
  },
  {
   "cell_type": "code",
   "execution_count": 21,
   "metadata": {},
   "outputs": [
    {
     "name": "stdout",
     "output_type": "stream",
     "text": [
      "0.8536585365853658\n"
     ]
    }
   ],
   "source": [
    "y_pred=dtc.predict(x_test)\n",
    "y_pred=np.array(y_pred)\n",
    "y_test=np.array(y_test)\n",
    "print(metrics.accuracy_score(y_test,y_pred))"
   ]
  },
  {
   "cell_type": "code",
   "execution_count": 22,
   "metadata": {},
   "outputs": [],
   "source": [
    "import pickle\n",
    "pickle.dump(dtc, open('dtc.dump','wb'))"
   ]
  },
  {
   "cell_type": "code",
   "execution_count": 23,
   "metadata": {},
   "outputs": [],
   "source": [
    "loaded_model=pickle.load(open('dtc.dump', 'rb'))"
   ]
  },
  {
   "cell_type": "code",
   "execution_count": 24,
   "metadata": {},
   "outputs": [],
   "source": [
    "dotfile = open(\"tree.dot\",\"w\")\n",
    "sklearn.tree.export_graphviz(dtc, out_file=dotfile, feature_names=X.columns)\n",
    "dotfile.close()\n"
   ]
  },
  {
   "cell_type": "code",
   "execution_count": 25,
   "metadata": {
    "scrolled": true
   },
   "outputs": [
    {
     "data": {
      "text/plain": [
       "Index(['age', 'sex', 'heart disease', 'lung disease', 'diabetes', 'fever',\n",
       "       'cough', 'shortness of breathe', 'pressure in the chest',\n",
       "       'close contact with corona patient', 'traveled country'],\n",
       "      dtype='object')"
      ]
     },
     "execution_count": 25,
     "metadata": {},
     "output_type": "execute_result"
    }
   ],
   "source": [
    "X.columns"
   ]
  },
  {
   "cell_type": "code",
   "execution_count": 30,
   "metadata": {},
   "outputs": [],
   "source": [
    "from sklearn.tree import _tree\n",
    "\n",
    "def tree_to_code(tree, feature_names):\n",
    "    tree_ = tree.tree_\n",
    "    feature_name = [\n",
    "        feature_names[i] if i != _tree.TREE_UNDEFINED else \"undefined!\"\n",
    "        for i in tree_.feature\n",
    "    ]\n",
    "    print (\"def tree({}):\".format(\", \".join(feature_names)))\n",
    "\n",
    "    def recurse(node, depth):\n",
    "        indent = \"  \" * depth\n",
    "        if tree_.feature[node] != _tree.TREE_UNDEFINED:\n",
    "            name = feature_name[node]\n",
    "            threshold = tree_.threshold[node]\n",
    "            print (\"{}if ({} <= {})\".format(indent, name, threshold))\n",
    "            print(\"{\")\n",
    "            recurse(tree_.children_left[node], depth + 1)\n",
    "            print (\"{}else  # if {} > {}\".format(indent, name, threshold))\n",
    "            print(\"{\")\n",
    "            recurse(tree_.children_right[node], depth + 1)\n",
    "        else:\n",
    "            print (\"{}return {};\".format(indent, tree_.value[node]))\n",
    "            print(\"}\")\n",
    "\n",
    "    recurse(0, 1)"
   ]
  },
  {
   "cell_type": "code",
   "execution_count": 31,
   "metadata": {},
   "outputs": [
    {
     "name": "stdout",
     "output_type": "stream",
     "text": [
      "def tree(age, sex, heart disease, lung disease, diabetes, fever, cough, shortness of breathe, pressure in the chest, close contact with corona patient, traveled country):\n",
      "  if (shortness of breathe <= 0.5)\n",
      "{\n",
      "    if (fever <= 0.5)\n",
      "{\n",
      "      if (pressure in the chest <= 0.5)\n",
      "{\n",
      "        if (age <= 34.0)\n",
      "{\n",
      "          if (age <= 31.0)\n",
      "{\n",
      "            return [[4. 0. 0.]];\n",
      "}\n",
      "          else  # if age > 31.0\n",
      "{\n",
      "            return [[0. 0. 1.]];\n",
      "}\n",
      "        else  # if age > 34.0\n",
      "{\n",
      "          return [[18.  0.  0.]];\n",
      "}\n",
      "      else  # if pressure in the chest > 0.5\n",
      "{\n",
      "        if (traveled country <= 7.5)\n",
      "{\n",
      "          return [[0. 2. 0.]];\n",
      "}\n",
      "        else  # if traveled country > 7.5\n",
      "{\n",
      "          if (traveled country <= 11.0)\n",
      "{\n",
      "            return [[1. 0. 0.]];\n",
      "}\n",
      "          else  # if traveled country > 11.0\n",
      "{\n",
      "            return [[0. 0. 2.]];\n",
      "}\n",
      "    else  # if fever > 0.5\n",
      "{\n",
      "      if (close contact with corona patient <= 0.5)\n",
      "{\n",
      "        if (pressure in the chest <= 0.5)\n",
      "{\n",
      "          return [[ 0.  0. 39.]];\n",
      "}\n",
      "        else  # if pressure in the chest > 0.5\n",
      "{\n",
      "          if (cough <= 0.5)\n",
      "{\n",
      "            return [[0. 0. 4.]];\n",
      "}\n",
      "          else  # if cough > 0.5\n",
      "{\n",
      "            if (sex <= 0.5)\n",
      "{\n",
      "              return [[0. 0. 1.]];\n",
      "}\n",
      "            else  # if sex > 0.5\n",
      "{\n",
      "              if (lung disease <= 0.5)\n",
      "{\n",
      "                return [[0. 3. 0.]];\n",
      "}\n",
      "              else  # if lung disease > 0.5\n",
      "{\n",
      "                return [[0. 0. 1.]];\n",
      "}\n",
      "      else  # if close contact with corona patient > 0.5\n",
      "{\n",
      "        return [[ 0. 11.  0.]];\n",
      "}\n",
      "  else  # if shortness of breathe > 0.5\n",
      "{\n",
      "    if (close contact with corona patient <= 0.5)\n",
      "{\n",
      "      if (pressure in the chest <= 0.5)\n",
      "{\n",
      "        if (age <= 65.5)\n",
      "{\n",
      "          if (fever <= 0.5)\n",
      "{\n",
      "            return [[0. 0. 1.]];\n",
      "}\n",
      "          else  # if fever > 0.5\n",
      "{\n",
      "            if (age <= 31.0)\n",
      "{\n",
      "              if (age <= 27.0)\n",
      "{\n",
      "                return [[0. 2. 0.]];\n",
      "}\n",
      "              else  # if age > 27.0\n",
      "{\n",
      "                return [[0. 0. 1.]];\n",
      "}\n",
      "            else  # if age > 31.0\n",
      "{\n",
      "              return [[0. 6. 0.]];\n",
      "}\n",
      "        else  # if age > 65.5\n",
      "{\n",
      "          if (traveled country <= 10.5)\n",
      "{\n",
      "            return [[0. 0. 3.]];\n",
      "}\n",
      "          else  # if traveled country > 10.5\n",
      "{\n",
      "            return [[0. 1. 0.]];\n",
      "}\n",
      "      else  # if pressure in the chest > 0.5\n",
      "{\n",
      "        if (age <= 37.0)\n",
      "{\n",
      "          if (lung disease <= 0.5)\n",
      "{\n",
      "            return [[0. 0. 1.]];\n",
      "}\n",
      "          else  # if lung disease > 0.5\n",
      "{\n",
      "            return [[0. 1. 0.]];\n",
      "}\n",
      "        else  # if age > 37.0\n",
      "{\n",
      "          return [[ 0. 25.  0.]];\n",
      "}\n",
      "    else  # if close contact with corona patient > 0.5\n",
      "{\n",
      "      return [[ 0. 33.  0.]];\n",
      "}\n"
     ]
    }
   ],
   "source": [
    "tree_to_code(dtc,X.columns)"
   ]
  }
 ],
 "metadata": {
  "kernelspec": {
   "display_name": "Python 3",
   "language": "python",
   "name": "python3"
  },
  "language_info": {
   "codemirror_mode": {
    "name": "ipython",
    "version": 3
   },
   "file_extension": ".py",
   "mimetype": "text/x-python",
   "name": "python",
   "nbconvert_exporter": "python",
   "pygments_lexer": "ipython3",
   "version": "3.7.3"
  }
 },
 "nbformat": 4,
 "nbformat_minor": 4
}
