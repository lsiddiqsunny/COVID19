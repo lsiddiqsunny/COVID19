{
 "cells": [
  {
   "cell_type": "code",
   "execution_count": 1,
   "metadata": {},
   "outputs": [
    {
     "name": "stderr",
     "output_type": "stream",
     "text": [
      "Using TensorFlow backend.\n"
     ]
    }
   ],
   "source": [
    "import glob\n",
    "from keras.models import Sequential, load_model\n",
    "import numpy as np\n",
    "import pandas as pd\n",
    "import keras as k\n",
    "from keras.layers import Dense\n",
    "from sklearn.model_selection import train_test_split\n",
    "from sklearn.preprocessing import LabelEncoder, MinMaxScaler\n",
    "import matplotlib.pyplot as plt"
   ]
  },
  {
   "cell_type": "code",
   "execution_count": null,
   "metadata": {
    "_cell_guid": "b1076dfc-b9ad-4769-8c92-a6c4dae69d19",
    "_uuid": "8f2839f25d086af736a60e9eeb907d3b93b6e0e5"
   },
   "outputs": [],
   "source": [
    "# This Python 3 environment comes with many helpful analytics libraries installed\n",
    "# It is defined by the kaggle/python docker image: https://github.com/kaggle/docker-python\n",
    "# For example, here's several helpful packages to load in \n",
    "\n",
    "import numpy as np # linear algebra\n",
    "import pandas as pd # data processing, CSV file I/O (e.g. pd.read_csv)\n",
    "\n",
    "# Input data files are available in the \"../input/\" directory.\n",
    "# For example, running this (by clicking run or pressing Shift+Enter) will list all files under the input directory\n",
    "\n",
    "import os\n",
    "for dirname, _, filenames in os.walk('/kaggle/input'):\n",
    "    for filename in filenames:\n",
    "        print(os.path.join(dirname, filename))\n",
    "\n",
    "# Any results you write to the current directory are saved as output."
   ]
  },
  {
   "cell_type": "code",
   "execution_count": 2,
   "metadata": {
    "_cell_guid": "79c7e3d0-c299-4dcb-8224-4455121ee9b0",
    "_uuid": "d629ff2d2480ee46fbb7e2d37f6b5fab8052498a"
   },
   "outputs": [],
   "source": [
    "df = pd.read_excel('COVID-19.xlsx')"
   ]
  },
  {
   "cell_type": "code",
   "execution_count": null,
   "metadata": {},
   "outputs": [],
   "source": [
    "df"
   ]
  },
  {
   "cell_type": "code",
   "execution_count": null,
   "metadata": {},
   "outputs": [],
   "source": [
    "df.drop(['Unnamed: 11'],axis=1,inplace=True)"
   ]
  },
  {
   "cell_type": "code",
   "execution_count": null,
   "metadata": {},
   "outputs": [],
   "source": [
    "df"
   ]
  },
  {
   "cell_type": "code",
   "execution_count": null,
   "metadata": {},
   "outputs": [],
   "source": [
    "#df['traveled country'].value_counts()"
   ]
  },
  {
   "cell_type": "code",
   "execution_count": null,
   "metadata": {},
   "outputs": [],
   "source": [
    "df['heart disease'] = df['heart disease'].map({'yes': 1, 'no': 0})\n",
    "df['lung disease'] = df['lung disease'].map({'yes': 1, 'no': 0})\n",
    "df['diabetes'] = df['diabetes'].map({'yes': 1, 'no': 0})\n",
    "df['fever'] = df['fever'].map({'yes': 1, 'no': 0})\n",
    "df['cough'] = df['cough'].map({'yes': 1, 'no': 0})\n",
    "df['shortness of breathe'] = df['shortness of breathe'].map({'yes': 1, 'no': 0})\n",
    "df['pressure in the chest'] = df['pressure in the chest'].map({'yes': 1, 'no': 0})\n",
    "df['close contact with corona patient'] = df['close contact with corona patient'].map({'yes': 1, 'no': 0})\n",
    "#df['corona patient'] = df['corona patient'].map({'corona': 1, 'flu': 2, 'cold':3})\n",
    "df['sex'] = df['sex'].map({'male': 1, 'female': 0})\n",
    "#df['traveled country'] = df['traveled country'].map({'china': 1, 'singapore': 2,'usa': 3, 'south korea': 4,'italy': 5, 'germany': 6,\n",
    "                                                     #'switzerland': 7, 'spain': 8,'thailand': 9,'egypt':10,'belgium':11,'lebanon':12,\n",
    "                                                     #'iraq':13,'iran':14,'afganistan':15,'kuwait':16,'algeria':17,'austria':18,'nepal':19,\n",
    "                                                     #'malaysia':20,'sri lanka':21,'india':22,'sweden':23,'canada':24,'netherlands':25,\n",
    "                                                     #'brazil':26,'greece':27,'israel':28,'russia':29,'chile':30,'mexico':31,'belarus':32,\n",
    "                                                     #'cyprus':33,'turkey':34,'honduras':35,'kenya':36,'uk':37,'costa rica':38,'armenia':39,\n",
    "                                                    #'ecuador':40,'bosnia':41,'azerbaijan':42,'peru':43,'panama':44,'bulgeria':45,'portugal':46})\n",
    "\n",
    "df['traveled country'] = df['traveled country'].map({'china': 2, 'singapore': 8,'usa': 3, 'south korea': 5,'italy': 1, 'germany': 9,\n",
    "                                                     'switzerland': 7, 'spain': 4,'thailand': 6,'egypt':10,'belgium':11,'lebanon':12,\n",
    "                                                     'iraq':11,'iran':11,'afganistan':12,'kuwait':12,'algeria':12,'austria':12,'nepal':12,\n",
    "                                                     'malaysia':10,'sri lanka':12,'india':12,'sweden':10,'canada':10,'netherlands':12,\n",
    "                                                     'brazil':12,'greece':12,'israel':12,'russia':12,'chile':12,'mexico':12,'belarus':12,\n",
    "                                                     'cyprus':12,'turkey':12,'honduras':12,'kenya':12,'uk':10,'costa rica':12,'armenia':12,\n",
    "                                                    'ecuador':12,'bosnia':12,'azerbaijan':12,'peru':12,'panama':12,'bulgeria':12,'portugal':11})\n",
    "                       "
   ]
  },
  {
   "cell_type": "code",
   "execution_count": null,
   "metadata": {},
   "outputs": [],
   "source": [
    "df"
   ]
  },
  {
   "cell_type": "code",
   "execution_count": null,
   "metadata": {},
   "outputs": [],
   "source": [
    "df.info()"
   ]
  },
  {
   "cell_type": "code",
   "execution_count": null,
   "metadata": {},
   "outputs": [],
   "source": [
    "#Split the data\n",
    "X = df.drop([\"disease\",'flu','cold','corona'], axis=1)\n",
    "#y_corona = df[\"corona\"]\n",
    "#y_flu = df['flu']\n",
    "#y_cold = df['cold']\n",
    "y = df[['corona','flu','cold']]"
   ]
  },
  {
   "cell_type": "code",
   "execution_count": null,
   "metadata": {},
   "outputs": [],
   "source": [
    "X"
   ]
  },
  {
   "cell_type": "code",
   "execution_count": null,
   "metadata": {},
   "outputs": [],
   "source": [
    "y"
   ]
  },
  {
   "cell_type": "code",
   "execution_count": null,
   "metadata": {},
   "outputs": [],
   "source": [
    "#Feature Scaling\n",
    "x_scaler = MinMaxScaler()\n",
    "x_scaler.fit(X)\n",
    "column_names = X.columns\n",
    "X[column_names] = x_scaler.transform(X)"
   ]
  },
  {
   "cell_type": "code",
   "execution_count": null,
   "metadata": {},
   "outputs": [],
   "source": [
    "X"
   ]
  },
  {
   "cell_type": "code",
   "execution_count": null,
   "metadata": {},
   "outputs": [],
   "source": [
    "#Split the data into 80% training and 20% testing \n",
    "X_train,  X_test, y_train, y_test = train_test_split(\n",
    "        X, y, test_size= 0.2, shuffle=True)"
   ]
  },
  {
   "cell_type": "code",
   "execution_count": null,
   "metadata": {},
   "outputs": [],
   "source": [
    "#Build The model\n",
    "model = Sequential()\n",
    "model.add(Dense(512, input_dim=len(X.columns),kernel_initializer=k.initializers.random_normal(seed=13), activation=\"relu\"))\n",
    "#model.add(Dense(128, activation='relu'))\n",
    "#model.add(Dense(128, activation='relu'))\n",
    "#model.add(Dense(512, activation='relu'))\n",
    "model.add(Dense(3, activation=\"softmax\"))"
   ]
  },
  {
   "cell_type": "code",
   "execution_count": null,
   "metadata": {},
   "outputs": [],
   "source": [
    "#Compile the model\n",
    "model.compile(loss='binary_crossentropy', \n",
    "                  optimizer='adam', metrics=['accuracy'])"
   ]
  },
  {
   "cell_type": "code",
   "execution_count": null,
   "metadata": {},
   "outputs": [],
   "source": [
    "#Train the model\n",
    "history = model.fit(X_train, y_train, \n",
    "                    epochs=1000, \n",
    "                    batch_size=X_train.shape[0]) "
   ]
  },
  {
   "cell_type": "code",
   "execution_count": null,
   "metadata": {},
   "outputs": [],
   "source": [
    "#Save the model\n",
    "model.save(\"covid-19.model\")"
   ]
  },
  {
   "cell_type": "code",
   "execution_count": null,
   "metadata": {},
   "outputs": [],
   "source": [
    "#Visualize the models accuracy and loss\n",
    "plt.plot(history.history[\"accuracy\"])\n",
    "plt.plot(history.history[\"loss\"])\n",
    "plt.title(\"model accuracy & loss\")\n",
    "plt.ylabel(\"accuracy and loss\")\n",
    "plt.xlabel(\"epoch\")\n",
    "plt.legend(['acc', 'loss'], loc='lower right')\n",
    "plt.show()"
   ]
  },
  {
   "cell_type": "code",
   "execution_count": null,
   "metadata": {},
   "outputs": [],
   "source": [
    "model"
   ]
  },
  {
   "cell_type": "code",
   "execution_count": null,
   "metadata": {},
   "outputs": [],
   "source": [
    "model.evaluate(X_test, y_test)"
   ]
  },
  {
   "cell_type": "code",
   "execution_count": null,
   "metadata": {},
   "outputs": [],
   "source": [
    "X_test"
   ]
  },
  {
   "cell_type": "code",
   "execution_count": null,
   "metadata": {},
   "outputs": [],
   "source": [
    "y_test.reset_index(drop=True,inplace=True)"
   ]
  },
  {
   "cell_type": "code",
   "execution_count": null,
   "metadata": {},
   "outputs": [],
   "source": [
    "prediction = model.predict_classes(X_test)\n",
    "\n",
    "prediction = pd.DataFrame(prediction)\n",
    "\n",
    "prediction.columns = ['prediction']"
   ]
  },
  {
   "cell_type": "code",
   "execution_count": null,
   "metadata": {},
   "outputs": [],
   "source": [
    "map_dict = {0:'corona',1:'flu',2:'cold'} \n",
    "#y_test[\"test\"] = prediction.loc[:,0].map(map_dict)\n",
    "y_test['predicted'] = prediction\n",
    "\n",
    "\n",
    "y_test"
   ]
  },
  {
   "cell_type": "code",
   "execution_count": null,
   "metadata": {},
   "outputs": [],
   "source": [
    "map_dict = {0:'corona',1:'flu',2:'cold'} \n",
    "y_test[\"predicted\"] = y_test[\"predicted\"].map(map_dict)\n",
    "y_test"
   ]
  },
  {
   "cell_type": "code",
   "execution_count": null,
   "metadata": {},
   "outputs": [],
   "source": [
    "y_test.to_excel(\"output.xlsx\")"
   ]
  },
  {
   "cell_type": "code",
   "execution_count": null,
   "metadata": {},
   "outputs": [],
   "source": []
  }
 ],
 "metadata": {
  "kernelspec": {
   "display_name": "Python 3",
   "language": "python",
   "name": "python3"
  },
  "language_info": {
   "codemirror_mode": {
    "name": "ipython",
    "version": 3
   },
   "file_extension": ".py",
   "mimetype": "text/x-python",
   "name": "python",
   "nbconvert_exporter": "python",
   "pygments_lexer": "ipython3",
   "version": "3.7.3"
  }
 },
 "nbformat": 4,
 "nbformat_minor": 4
}
